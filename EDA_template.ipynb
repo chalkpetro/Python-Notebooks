{
  "nbformat": 4,
  "nbformat_minor": 0,
  "metadata": {
    "kernelspec": {
      "display_name": "Python 3",
      "language": "python",
      "name": "python3"
    },
    "language_info": {
      "codemirror_mode": {
        "name": "ipython",
        "version": 3
      },
      "file_extension": ".py",
      "mimetype": "text/x-python",
      "name": "python",
      "nbconvert_exporter": "python",
      "pygments_lexer": "ipython3",
      "version": "3.7.4"
    },
    "colab": {
      "provenance": [],
      "include_colab_link": true
    }
  },
  "cells": [
    {
      "cell_type": "markdown",
      "metadata": {
        "id": "view-in-github",
        "colab_type": "text"
      },
      "source": [
        "<a href=\"https://colab.research.google.com/github/chalkpetro/Python-Notebooks/blob/main/EDA_template.ipynb\" target=\"_parent\"><img src=\"https://colab.research.google.com/assets/colab-badge.svg\" alt=\"Open In Colab\"/></a>"
      ]
    },
    {
      "cell_type": "markdown",
      "metadata": {
        "id": "FeNVD5zGx1zf"
      },
      "source": [
        "# DS 2500 Exploratory Data Analysis"
      ]
    },
    {
      "cell_type": "code",
      "metadata": {
        "id": "v7_CnoBRx1zh"
      },
      "source": [
        "%matplotlib inline\n",
        "import matplotlib.pyplot as plt\n",
        "import seaborn as sb\n",
        "\n",
        "import numpy as np\n",
        "import pandas as pd"
      ],
      "execution_count": null,
      "outputs": []
    },
    {
      "cell_type": "markdown",
      "metadata": {
        "id": "4hFgKZJ9x1zk"
      },
      "source": [
        "# 1. Formulate your questions\n",
        "\n"
      ]
    },
    {
      "cell_type": "markdown",
      "metadata": {
        "id": "QujF8vkYx1zl"
      },
      "source": [
        "\n",
        "\n",
        "```\n",
        "# This is formatted as code\n",
        "```\n",
        "\n",
        "# 2. Read in your data\n",
        "\n"
      ]
    },
    {
      "cell_type": "markdown",
      "metadata": {
        "id": "Pb0vePO9x1zo"
      },
      "source": [
        "\n",
        "\n",
        "```\n",
        "# This is formatted as code\n",
        "```\n",
        "\n",
        "# 3. Check the packaging"
      ]
    },
    {
      "cell_type": "code",
      "metadata": {
        "id": "wTMgidGVx1zp"
      },
      "source": [
        "df.shape"
      ],
      "execution_count": null,
      "outputs": []
    },
    {
      "cell_type": "markdown",
      "metadata": {
        "id": "v1nWGAHJx1zr"
      },
      "source": [
        "\n",
        "\n",
        "```\n",
        "# This is formatted as code\n",
        "```\n",
        "\n",
        "# 4. Look at the top and bottom of data"
      ]
    },
    {
      "cell_type": "code",
      "metadata": {
        "id": "T3cOoAtEx1zs"
      },
      "source": [
        "df.head()"
      ],
      "execution_count": null,
      "outputs": []
    },
    {
      "cell_type": "code",
      "metadata": {
        "id": "98HgpEuzx1zy"
      },
      "source": [
        "df.tail()"
      ],
      "execution_count": null,
      "outputs": []
    },
    {
      "cell_type": "markdown",
      "metadata": {
        "id": "YPWvFKW7x1z7"
      },
      "source": [
        "# 5. Check the \"n\"s\n",
        "\n",
        "Look at the landmark values to validate the data (number of states, time span)"
      ]
    },
    {
      "cell_type": "markdown",
      "metadata": {
        "id": "rwuDAllZx10G"
      },
      "source": [
        "# 6. Validate against an external knowledge or data source\n",
        "\n",
        "For example, look at the most and least frequent categories in categorical data and see if they make sense"
      ]
    },
    {
      "cell_type": "markdown",
      "metadata": {
        "id": "pSHySBwwx10S"
      },
      "source": [
        "# 7. Make a plot\n",
        "\n",
        "\n",
        "*   If you're comparing means for two or more groups: choose a bar chart, box plot, or violin plot\n",
        "*   If you're cosidering one or more variables over time: choose a line plot with time on x-axis\n",
        "*   If you're checking for a relationship between two variables: choose a scatter plot\n",
        "\n"
      ]
    },
    {
      "cell_type": "markdown",
      "metadata": {
        "id": "iDcQx_KPx10U"
      },
      "source": [
        "# 8. Try an easy solution\n",
        "\n",
        "Use a statistical test to answer you question. See [Statistical Overview](https://colab.research.google.com/drive/1dR3EB6fWT-RjxtWEPCYoNxQ7Ic7Hfeon) notebook for the most common tests.\n",
        "\n",
        "\n",
        "\n",
        "*   If p-value < 0.05, your test is statistically significant\n",
        "\n"
      ]
    }
  ]
}