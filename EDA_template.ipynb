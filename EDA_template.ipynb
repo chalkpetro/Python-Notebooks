{
  "cells": [
    {
      "cell_type": "markdown",
      "metadata": {
        "colab_type": "text",
        "id": "view-in-github"
      },
      "source": [
        "<a href=\"https://colab.research.google.com/github/chalkpetro/Python-Notebooks/blob/main/EDA_template.ipynb\" target=\"_parent\"><img src=\"https://colab.research.google.com/assets/colab-badge.svg\" alt=\"Open In Colab\"/></a>"
      ]
    },
    {
      "cell_type": "markdown",
      "metadata": {
        "id": "FeNVD5zGx1zf"
      },
      "source": [
        "# DS 2500 Exploratory Data Analysis"
      ]
    },
    {
      "cell_type": "code",
      "execution_count": 2,
      "metadata": {
        "id": "v7_CnoBRx1zh"
      },
      "outputs": [],
      "source": [
        "%matplotlib inline\n",
        "import matplotlib.pyplot as plt\n",
        "import seaborn as sb\n",
        "\n",
        "import numpy as np\n",
        "import pandas as pd"
      ]
    },
    {
      "cell_type": "markdown",
      "metadata": {
        "id": "4hFgKZJ9x1zk"
      },
      "source": [
        "# 1. Formulate your questions\n",
        "\n"
      ]
    },
    {
      "cell_type": "markdown",
      "metadata": {
        "id": "QujF8vkYx1zl"
      },
      "source": [
        "\n",
        "\n",
        "```\n",
        "# This is formatted as code\n",
        "```\n",
        "\n",
        "# 2. Read in your data\n",
        "\n"
      ]
    },
    {
      "cell_type": "markdown",
      "metadata": {
        "id": "Pb0vePO9x1zo"
      },
      "source": [
        "\n",
        "\n",
        "```\n",
        "# This is formatted as code\n",
        "```\n",
        "\n",
        "# 3. Check the packaging"
      ]
    },
    {
      "cell_type": "code",
      "execution_count": 3,
      "metadata": {
        "id": "wTMgidGVx1zp"
      },
      "outputs": [
        {
          "ename": "NameError",
          "evalue": "name 'df' is not defined",
          "output_type": "error",
          "traceback": [
            "\u001b[0;31m---------------------------------------------------------------------------\u001b[0m",
            "\u001b[0;31mNameError\u001b[0m                                 Traceback (most recent call last)",
            "\u001b[1;32m/Users/nikolaspetroff/Cloned GitHub Repos/Python-Notebooks/EDA_template.ipynb Cell 7\u001b[0m line \u001b[0;36m1\n\u001b[0;32m----> <a href='vscode-notebook-cell:/Users/nikolaspetroff/Cloned%20GitHub%20Repos/Python-Notebooks/EDA_template.ipynb#W6sZmlsZQ%3D%3D?line=0'>1</a>\u001b[0m df\u001b[39m.\u001b[39mshape\n",
            "\u001b[0;31mNameError\u001b[0m: name 'df' is not defined"
          ]
        }
      ],
      "source": [
        "df.shape"
      ]
    },
    {
      "cell_type": "markdown",
      "metadata": {
        "id": "v1nWGAHJx1zr"
      },
      "source": [
        "\n",
        "\n",
        "```\n",
        "# This is formatted as code\n",
        "```\n",
        "\n",
        "# 4. Look at the top and bottom of data"
      ]
    },
    {
      "cell_type": "code",
      "execution_count": null,
      "metadata": {
        "id": "T3cOoAtEx1zs"
      },
      "outputs": [],
      "source": [
        "df.head()"
      ]
    },
    {
      "cell_type": "code",
      "execution_count": null,
      "metadata": {
        "id": "98HgpEuzx1zy"
      },
      "outputs": [],
      "source": [
        "df.tail()"
      ]
    },
    {
      "cell_type": "markdown",
      "metadata": {
        "id": "YPWvFKW7x1z7"
      },
      "source": [
        "# 5. Check the \"n\"s\n",
        "\n",
        "Look at the landmark values to validate the data (number of states, time span)"
      ]
    },
    {
      "cell_type": "markdown",
      "metadata": {
        "id": "rwuDAllZx10G"
      },
      "source": [
        "# 6. Validate against an external knowledge or data source\n",
        "\n",
        "For example, look at the most and least frequent categories in categorical data and see if they make sense"
      ]
    },
    {
      "cell_type": "markdown",
      "metadata": {
        "id": "pSHySBwwx10S"
      },
      "source": [
        "# 7. Make a plot\n",
        "\n",
        "\n",
        "*   If you're comparing means for two or more groups: choose a bar chart, box plot, or violin plot\n",
        "*   If you're cosidering one or more variables over time: choose a line plot with time on x-axis\n",
        "*   If you're checking for a relationship between two variables: choose a scatter plot\n",
        "\n"
      ]
    },
    {
      "cell_type": "markdown",
      "metadata": {
        "id": "iDcQx_KPx10U"
      },
      "source": [
        "# 8. Try an easy solution\n",
        "\n",
        "Use a statistical test to answer you question. See [Statistical Overview](https://colab.research.google.com/drive/1dR3EB6fWT-RjxtWEPCYoNxQ7Ic7Hfeon) notebook for the most common tests.\n",
        "\n",
        "\n",
        "\n",
        "*   If p-value < 0.05, your test is statistically significant\n",
        "\n"
      ]
    }
  ],
  "metadata": {
    "colab": {
      "include_colab_link": true,
      "provenance": []
    },
    "kernelspec": {
      "display_name": "Python 3 (ipykernel)",
      "language": "python",
      "name": "python3"
    },
    "language_info": {
      "codemirror_mode": {
        "name": "ipython",
        "version": 3
      },
      "file_extension": ".py",
      "mimetype": "text/x-python",
      "name": "python",
      "nbconvert_exporter": "python",
      "pygments_lexer": "ipython3",
      "version": "3.10.13"
    }
  },
  "nbformat": 4,
  "nbformat_minor": 0
}
